{
 "cells": [
  {
   "cell_type": "code",
   "execution_count": 1,
   "metadata": {},
   "outputs": [],
   "source": [
    "#!pip install wikipedia"
   ]
  },
  {
   "cell_type": "code",
   "execution_count": 2,
   "metadata": {},
   "outputs": [],
   "source": [
    "import wikipedia"
   ]
  },
  {
   "cell_type": "code",
   "execution_count": 3,
   "metadata": {},
   "outputs": [
    {
     "data": {
      "text/plain": [
       "['Budapest',\n",
       " 'Budapest Memorandum on Security Assurances',\n",
       " 'The Grand Budapest Hotel',\n",
       " 'Siege of Budapest',\n",
       " 'Budapest (song)',\n",
       " 'History of Budapest',\n",
       " 'Budapest Metro',\n",
       " 'Budapest Nyugati station',\n",
       " 'Budapest Treaty',\n",
       " 'Budapest Highflyer']"
      ]
     },
     "execution_count": 3,
     "metadata": {},
     "output_type": "execute_result"
    }
   ],
   "source": [
    "wikipedia.search(\"Budapest\")"
   ]
  },
  {
   "cell_type": "code",
   "execution_count": 4,
   "metadata": {},
   "outputs": [],
   "source": [
    "budapest_wiki = wikipedia.page('Budapest')"
   ]
  },
  {
   "cell_type": "code",
   "execution_count": 5,
   "metadata": {},
   "outputs": [
    {
     "data": {
      "text/plain": [
       "'Budapest'"
      ]
     },
     "execution_count": 5,
     "metadata": {},
     "output_type": "execute_result"
    }
   ],
   "source": [
    "budapest_wiki.title"
   ]
  },
  {
   "cell_type": "code",
   "execution_count": 6,
   "metadata": {},
   "outputs": [
    {
     "data": {
      "text/plain": [
       "'https://en.wikipedia.org/wiki/Budapest'"
      ]
     },
     "execution_count": 6,
     "metadata": {},
     "output_type": "execute_result"
    }
   ],
   "source": [
    "budapest_wiki.url"
   ]
  },
  {
   "cell_type": "code",
   "execution_count": 7,
   "metadata": {},
   "outputs": [],
   "source": [
    "budapest_summary = wikipedia.summary(\"Budapest\")"
   ]
  },
  {
   "cell_type": "code",
   "execution_count": 8,
   "metadata": {},
   "outputs": [
    {
     "data": {
      "text/plain": [
       "\"Budapest (UK: , US: ; Hungarian pronunciation: [ˈbudɒpɛʃt] (listen)) is the capital and most populous city of Hungary. It is the ninth-largest city in the European Union by population within city limits; the city has an estimated population of 1,752,286 over a land area of about 525 square kilometres (203 square miles). Budapest, which is both a city and county, forms the centre of the Budapest metropolitan area, which has an area of 7,626 square kilometres (2,944 square miles) and a population of 3,303,786, comprising 33% of the population of Hungary.The history of Budapest began when an early Celtic settlement transformed into the Roman town of Aquincum, the capital of Lower Pannonia. The Hungarians arrived in the territory in the late 9th century, but the area was pillaged by the Mongols in 1241–42. Re-established Buda became one of the centres of Renaissance humanist culture by the 15th century. The Battle of Mohács, in 1526, was followed by nearly 150 years of Ottoman rule. After the reconquest of Buda in 1686, the region entered a new age of prosperity, with Pest-Buda becoming a global city after the unification of Buda, Óbuda and Pest on 17 November 1873, with the name 'Budapest' given to the new capital. Budapest also became the co-capital of the Austro-Hungarian Empire, a great power that dissolved in 1918, following World War I. The city was the focal point of the Hungarian Revolution of 1848, the Battle of Budapest in 1945, as well as the Hungarian Revolution of 1956.Budapest is a Beta + global city with strengths in commerce, finance, media, art, fashion, research, technology, education and entertainment. Hungary's financial centre, it was ranked as the second fastest-developing urban economy in Europe in 2014. Budapest is the headquarters of the European Institute of Innovation and Technology, the European Police College and the first foreign office of the China Investment Promotion Agency. Over 40 colleges and universities are located in Budapest, including the Eötvös Loránd University, the Corvinus University, Semmelweis University and the Budapest University of Technology and Economics. Opened in 1896, the city's subway system, the Budapest Metro, serves 1.27 million, while the Budapest Tram Network serves 1.08 million passengers daily.The central area of Budapest along the Danube River is classified as a UNESCO World Heritage Site and has several notable monuments of classical architecture, including the Hungarian Parliament and the Buda Castle. The city also has around 80 geothermal springs, the largest thermal water cave system, second largest synagogue, and third largest Parliament building in the world. Budapest attracts around 12 million international tourists per year, making it a highly popular destination in Europe. It also topped the Best European Destinations 2020 list by Big7Media. Budapest also ranks as the third-best European city in a similar poll conducted by Which?.\""
      ]
     },
     "execution_count": 8,
     "metadata": {},
     "output_type": "execute_result"
    }
   ],
   "source": [
    "budapest_summary"
   ]
  },
  {
   "cell_type": "code",
   "execution_count": 9,
   "metadata": {},
   "outputs": [],
   "source": [
    "budapest_content = budapest_wiki.content"
   ]
  },
  {
   "cell_type": "code",
   "execution_count": 12,
   "metadata": {},
   "outputs": [],
   "source": [
    "import nltk\n",
    "from nltk.tokenize import sent_tokenize, word_tokenize"
   ]
  },
  {
   "cell_type": "code",
   "execution_count": 20,
   "metadata": {},
   "outputs": [],
   "source": [
    "def summarization(text):\n",
    "    results = []\n",
    "    for number, sentence in enumerate(sent_tokenize(text)):\n",
    "        number_tokens=len(word_tokenize(sentence))\n",
    "        tagged=nltk.pos_tag(word_tokenize(sentence))\n",
    "        number_nouns=len([word for word, pos in tagged if pos in [\"NN\",\"NNP\"]])\n",
    "        #use NER to tag the named entities\n",
    "        ners=nltk.ne_chunk(nltk.pos_tag(word_tokenize(sentence)),binary=False)\n",
    "        number_ners=len([chunk for chunk in ners if hasattr(chunk,'label') and chunk.label() == 'NE'])\n",
    "        score=(number_ners + number_nouns)/float(number_tokens)\n",
    "        results.append((number,score,sentence))\n",
    "    return results "
   ]
  },
  {
   "cell_type": "code",
   "execution_count": 21,
   "metadata": {},
   "outputs": [
    {
     "data": {
      "text/plain": [
       "[(0,\n",
       "  0.14285714285714285,\n",
       "  'Budapest (UK: , US: ; Hungarian pronunciation: [ˈbudɒpɛʃt] (listen)) is the capital and most populous city of Hungary.'),\n",
       " (1,\n",
       "  0.05263157894736842,\n",
       "  'It is the ninth-largest city in the European Union by population within city limits; the city has an estimated population of 1,752,286 over a land area of about 525 square kilometres (203 square miles).'),\n",
       " (2,\n",
       "  0.11594202898550725,\n",
       "  'Budapest, which is both a city and county, forms the centre of the Budapest metropolitan area, which has an area of 7,626 square kilometres (2,944 square miles) and a population of 3,303,786, comprising 33% of the population of Hungary.The history of Budapest began when an early Celtic settlement transformed into the Roman town of Aquincum, the capital of Lower Pannonia.'),\n",
       " (3,\n",
       "  0.043478260869565216,\n",
       "  'The Hungarians arrived in the territory in the late 9th century, but the area was pillaged by the Mongols in 1241–42.'),\n",
       " (4,\n",
       "  0.125,\n",
       "  'Re-established Buda became one of the centres of Renaissance humanist culture by the 15th century.'),\n",
       " (5,\n",
       "  0.16666666666666666,\n",
       "  'The Battle of Mohács, in 1526, was followed by nearly 150 years of Ottoman rule.'),\n",
       " (6,\n",
       "  0.14583333333333334,\n",
       "  \"After the reconquest of Buda in 1686, the region entered a new age of prosperity, with Pest-Buda becoming a global city after the unification of Buda, Óbuda and Pest on 17 November 1873, with the name 'Budapest' given to the new capital.\"),\n",
       " (7,\n",
       "  0.17391304347826086,\n",
       "  'Budapest also became the co-capital of the Austro-Hungarian Empire, a great power that dissolved in 1918, following World War I.'),\n",
       " (8,\n",
       "  0.10909090909090909,\n",
       "  'The city was the focal point of the Hungarian Revolution of 1848, the Battle of Budapest in 1945, as well as the Hungarian Revolution of 1956.Budapest is a Beta + global city with strengths in commerce, finance, media, art, fashion, research, technology, education and entertainment.'),\n",
       " (9,\n",
       "  0.10526315789473684,\n",
       "  \"Hungary's financial centre, it was ranked as the second fastest-developing urban economy in Europe in 2014.\"),\n",
       " (10,\n",
       "  0.41379310344827586,\n",
       "  'Budapest is the headquarters of the European Institute of Innovation and Technology, the European Police College and the first foreign office of the China Investment Promotion Agency.'),\n",
       " (11,\n",
       "  0.3870967741935484,\n",
       "  'Over 40 colleges and universities are located in Budapest, including the Eötvös Loránd University, the Corvinus University, Semmelweis University and the Budapest University of Technology and Economics.'),\n",
       " (12,\n",
       "  0.24193548387096775,\n",
       "  \"Opened in 1896, the city's subway system, the Budapest Metro, serves 1.27 million, while the Budapest Tram Network serves 1.08 million passengers daily.The central area of Budapest along the Danube River is classified as a UNESCO World Heritage Site and has several notable monuments of classical architecture, including the Hungarian Parliament and the Buda Castle.\"),\n",
       " (13,\n",
       "  0.0,\n",
       "  'The city also has around 80 geothermal springs, the largest thermal water cave system, second largest synagogue, and third largest Parliament building in the world.'),\n",
       " (14,\n",
       "  0.05263157894736842,\n",
       "  'Budapest attracts around 12 million international tourists per year, making it a highly popular destination in Europe.'),\n",
       " (15,\n",
       "  0.16666666666666666,\n",
       "  'It also topped the Best European Destinations 2020 list by Big7Media.'),\n",
       " (16,\n",
       "  0.11764705882352941,\n",
       "  'Budapest also ranks as the third-best European city in a similar poll conducted by Which?.')]"
      ]
     },
     "execution_count": 21,
     "metadata": {},
     "output_type": "execute_result"
    }
   ],
   "source": [
    "summ = summarization(budapest_summary)\n",
    "summ"
   ]
  },
  {
   "cell_type": "code",
   "execution_count": 22,
   "metadata": {},
   "outputs": [
    {
     "name": "stdout",
     "output_type": "stream",
     "text": [
      "Budapest is the headquarters of the European Institute of Innovation and Technology, the European Police College and the first foreign office of the China Investment Promotion Agency.\n",
      "Over 40 colleges and universities are located in Budapest, including the Eötvös Loránd University, the Corvinus University, Semmelweis University and the Budapest University of Technology and Economics.\n",
      "Opened in 1896, the city's subway system, the Budapest Metro, serves 1.27 million, while the Budapest Tram Network serves 1.08 million passengers daily.The central area of Budapest along the Danube River is classified as a UNESCO World Heritage Site and has several notable monuments of classical architecture, including the Hungarian Parliament and the Buda Castle.\n",
      "Budapest also became the co-capital of the Austro-Hungarian Empire, a great power that dissolved in 1918, following World War I.\n",
      "The Battle of Mohács, in 1526, was followed by nearly 150 years of Ottoman rule.\n",
      "It also topped the Best European Destinations 2020 list by Big7Media.\n",
      "After the reconquest of Buda in 1686, the region entered a new age of prosperity, with Pest-Buda becoming a global city after the unification of Buda, Óbuda and Pest on 17 November 1873, with the name 'Budapest' given to the new capital.\n",
      "Budapest (UK: , US: ; Hungarian pronunciation: [ˈbudɒpɛʃt] (listen)) is the capital and most populous city of Hungary.\n",
      "Re-established Buda became one of the centres of Renaissance humanist culture by the 15th century.\n",
      "Budapest also ranks as the third-best European city in a similar poll conducted by Which?.\n",
      "Budapest, which is both a city and county, forms the centre of the Budapest metropolitan area, which has an area of 7,626 square kilometres (2,944 square miles) and a population of 3,303,786, comprising 33% of the population of Hungary.The history of Budapest began when an early Celtic settlement transformed into the Roman town of Aquincum, the capital of Lower Pannonia.\n",
      "The city was the focal point of the Hungarian Revolution of 1848, the Battle of Budapest in 1945, as well as the Hungarian Revolution of 1956.Budapest is a Beta + global city with strengths in commerce, finance, media, art, fashion, research, technology, education and entertainment.\n",
      "Hungary's financial centre, it was ranked as the second fastest-developing urban economy in Europe in 2014.\n",
      "It is the ninth-largest city in the European Union by population within city limits; the city has an estimated population of 1,752,286 over a land area of about 525 square kilometres (203 square miles).\n",
      "Budapest attracts around 12 million international tourists per year, making it a highly popular destination in Europe.\n",
      "The Hungarians arrived in the territory in the late 9th century, but the area was pillaged by the Mongols in 1241–42.\n",
      "The city also has around 80 geothermal springs, the largest thermal water cave system, second largest synagogue, and third largest Parliament building in the world.\n"
     ]
    }
   ],
   "source": [
    "# sorting the tuple based on the score in descending order\n",
    "for i in sorted(summ, key=lambda x: x[1], reverse=True):\n",
    "    print(i[2])"
   ]
  },
  {
   "cell_type": "code",
   "execution_count": null,
   "metadata": {},
   "outputs": [],
   "source": []
  }
 ],
 "metadata": {
  "kernelspec": {
   "display_name": "Python 3",
   "language": "python",
   "name": "python3"
  },
  "language_info": {
   "codemirror_mode": {
    "name": "ipython",
    "version": 3
   },
   "file_extension": ".py",
   "mimetype": "text/x-python",
   "name": "python",
   "nbconvert_exporter": "python",
   "pygments_lexer": "ipython3",
   "version": "3.8.5"
  }
 },
 "nbformat": 4,
 "nbformat_minor": 4
}
