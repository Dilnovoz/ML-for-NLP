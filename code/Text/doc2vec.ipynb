{
 "cells": [
  {
   "cell_type": "code",
   "execution_count": 1,
   "metadata": {},
   "outputs": [],
   "source": [
    "import os\n",
    "import gensim\n",
    "# Set file names for train and test data\n",
    "test_data_dir = os.path.join(gensim.__path__[0], 'test', 'test_data')\n",
    "lee_train_file = os.path.join(test_data_dir, 'lee_background.cor')\n",
    "lee_test_file = os.path.join(test_data_dir, 'lee.cor')"
   ]
  },
  {
   "cell_type": "code",
   "execution_count": 2,
   "metadata": {},
   "outputs": [],
   "source": [
    "import smart_open\n",
    "\n",
    "def read_corpus(fname, tokens_only=False):\n",
    "    with smart_open.open(fname, encoding=\"iso-8859-1\") as f:\n",
    "        for i, line in enumerate(f):\n",
    "            tokens = gensim.utils.simple_preprocess(line)\n",
    "            if tokens_only:\n",
    "                yield tokens\n",
    "            else:\n",
    "                # For training data, add tags\n",
    "                yield gensim.models.doc2vec.TaggedDocument(tokens, [i])\n",
    "\n",
    "train_corpus = list(read_corpus(lee_train_file))\n",
    "test_corpus = list(read_corpus(lee_test_file, tokens_only=True))"
   ]
  },
  {
   "cell_type": "code",
   "execution_count": 3,
   "metadata": {},
   "outputs": [],
   "source": [
    "#train_corpus\n",
    "#test_corpus"
   ]
  },
  {
   "cell_type": "code",
   "execution_count": 4,
   "metadata": {},
   "outputs": [],
   "source": [
    "model = gensim.models.doc2vec.Doc2Vec(vector_size=50, min_count=2, epochs=40)\n"
   ]
  },
  {
   "cell_type": "code",
   "execution_count": 5,
   "metadata": {},
   "outputs": [],
   "source": [
    "model.build_vocab(train_corpus)"
   ]
  },
  {
   "cell_type": "code",
   "execution_count": 6,
   "metadata": {},
   "outputs": [
    {
     "name": "stdout",
     "output_type": "stream",
     "text": [
      "Word 'australia' appeared 157 times in the training corpus.\n"
     ]
    }
   ],
   "source": [
    "print(f\"Word 'australia' appeared {model.wv.get_vecattr('australia', 'count')} times in the training corpus.\")"
   ]
  },
  {
   "cell_type": "code",
   "execution_count": 7,
   "metadata": {},
   "outputs": [],
   "source": [
    "model.train(train_corpus, total_examples=model.corpus_count, epochs=model.epochs)"
   ]
  },
  {
   "cell_type": "code",
   "execution_count": 8,
   "metadata": {},
   "outputs": [
    {
     "name": "stdout",
     "output_type": "stream",
     "text": [
      "[-0.31976154 -0.26476884 -0.16041218  0.27349195 -0.01096832  0.05571494\n",
      "  0.03510425  0.03197565 -0.24266955 -0.02463971  0.18618184 -0.12118428\n",
      " -0.05194681 -0.06369919 -0.05481533 -0.16708986  0.09989088  0.14317323\n",
      "  0.16305943 -0.05766478  0.01440293  0.03208936  0.10748866  0.08495447\n",
      " -0.04660195  0.00640279 -0.22751215 -0.01198588 -0.1814076  -0.06214438\n",
      "  0.41534087  0.0075723   0.09895925  0.13051635  0.25971898  0.09518899\n",
      "  0.02625178 -0.12171331 -0.11473399 -0.08249989 -0.02871951  0.0420239\n",
      " -0.13584407 -0.09942883  0.10453323  0.00998436 -0.05356161 -0.04830276\n",
      "  0.08323494  0.05484739]\n"
     ]
    }
   ],
   "source": [
    "vector = model.infer_vector(['only', 'you', 'can', 'prevent', 'forest', 'fires'])\n",
    "print(vector)"
   ]
  },
  {
   "cell_type": "code",
   "execution_count": 9,
   "metadata": {},
   "outputs": [],
   "source": [
    "sentence = ['only', 'you', 'can', 'prevent', 'forest', 'fires']\n",
    "vec = 0\n",
    "for element in sentence:\n",
    "    element = model.infer_vector([element])\n",
    "    vec = vec + element\n",
    "    \n",
    "vec=vec/len(sentence)\n",
    "        \n",
    "    "
   ]
  },
  {
   "cell_type": "code",
   "execution_count": 10,
   "metadata": {},
   "outputs": [
    {
     "data": {
      "text/plain": [
       "array([-0.26727238, -0.02400274, -0.11539656,  0.0710511 , -0.03848986,\n",
       "       -0.09373647,  0.09259338,  0.11842092, -0.1240021 , -0.09933812,\n",
       "        0.0754253 , -0.2041409 , -0.00184114, -0.02438926, -0.13542247,\n",
       "       -0.04856223,  0.13091236,  0.08527001,  0.00421309, -0.09346253,\n",
       "        0.13401626,  0.07026599,  0.24547905,  0.00699505,  0.10448146,\n",
       "       -0.02037976, -0.13552496, -0.00907391, -0.1268513 , -0.1397889 ,\n",
       "        0.10850052, -0.00817207, -0.063591  ,  0.14053357, -0.03743366,\n",
       "        0.01460632,  0.07227769, -0.06326079, -0.04836645,  0.01952797,\n",
       "        0.10248665,  0.01550332, -0.06729565, -0.06067989,  0.17969568,\n",
       "        0.06117888,  0.06062019, -0.1065082 ,  0.13902348,  0.08265901],\n",
       "      dtype=float32)"
      ]
     },
     "execution_count": 10,
     "metadata": {},
     "output_type": "execute_result"
    }
   ],
   "source": [
    "vec"
   ]
  },
  {
   "cell_type": "code",
   "execution_count": 11,
   "metadata": {},
   "outputs": [],
   "source": [
    "ranks = []\n",
    "second_ranks = []\n",
    "for doc_id in range(len(train_corpus)):\n",
    "    inferred_vector = model.infer_vector(train_corpus[doc_id].words)\n",
    "    sims = model.dv.most_similar([inferred_vector], topn=len(model.dv))\n",
    "    rank = [docid for docid, sim in sims].index(doc_id)\n",
    "    ranks.append(rank)\n",
    "\n",
    "    second_ranks.append(sims[1])"
   ]
  },
  {
   "cell_type": "code",
   "execution_count": 12,
   "metadata": {},
   "outputs": [
    {
     "data": {
      "text/plain": [
       "[(48, 0.8950256109237671),\n",
       " (143, 0.7655128836631775),\n",
       " (21, 0.8799075484275818),\n",
       " (57, 0.6846529245376587),\n",
       " (33, 0.7159869074821472),\n",
       " (218, 0.6458190083503723),\n",
       " (17, 0.829204261302948),\n",
       " (25, 0.805980920791626),\n",
       " (33, 0.8963625431060791),\n",
       " (8, 0.7949551939964294),\n",
       " (264, 0.789124608039856),\n",
       " (188, 0.7263126969337463),\n",
       " (26, 0.6898002624511719),\n",
       " (292, 0.771701991558075),\n",
       " (277, 0.8778758645057678),\n",
       " (27, 0.8312704563140869),\n",
       " (59, 0.857148289680481),\n",
       " (6, 0.8438591361045837),\n",
       " (71, 0.694186270236969),\n",
       " (40, 0.7896546125411987),\n",
       " (150, 0.6165494918823242),\n",
       " (43, 0.8830140829086304),\n",
       " (179, 0.809225857257843),\n",
       " (56, 0.750128984451294),\n",
       " (62, 0.6348386406898499),\n",
       " (10, 0.8349882960319519),\n",
       " (12, 0.7767967581748962),\n",
       " (15, 0.8552736043930054),\n",
       " (56, 0.7624508738517761),\n",
       " (173, 0.8078106641769409),\n",
       " (149, 0.6805684566497803),\n",
       " (251, 0.7582486867904663),\n",
       " (21, 0.7382551431655884),\n",
       " (8, 0.8826751708984375),\n",
       " (12, 0.659411609172821),\n",
       " (127, 0.7091203927993774),\n",
       " (186, 0.5089327096939087),\n",
       " (118, 0.8591912388801575),\n",
       " (211, 0.7387035489082336),\n",
       " (15, 0.8146358728408813),\n",
       " (48, 0.8949452042579651),\n",
       " (75, 0.7067223787307739),\n",
       " (182, 0.7038680911064148),\n",
       " (21, 0.9025450944900513),\n",
       " (81, 0.8522188067436218),\n",
       " (293, 0.6621452569961548),\n",
       " (25, 0.8181359171867371),\n",
       " (139, 0.8517895340919495),\n",
       " (0, 0.9112975597381592),\n",
       " (160, 0.6009870171546936),\n",
       " (268, 0.8136000633239746),\n",
       " (1, 0.7353032231330872),\n",
       " (25, 0.8133372068405151),\n",
       " (202, 0.7179060578346252),\n",
       " (23, 0.7440479397773743),\n",
       " (104, 0.8361418843269348),\n",
       " (23, 0.7588124871253967),\n",
       " (74, 0.7900170683860779),\n",
       " (183, 0.8247599005699158),\n",
       " (72, 0.9634938836097717),\n",
       " (220, 0.83461993932724),\n",
       " (204, 0.6724079847335815),\n",
       " (188, 0.732358455657959),\n",
       " (178, 0.6060757637023926),\n",
       " (90, 0.8498924374580383),\n",
       " (225, 0.664350688457489),\n",
       " (76, 0.7636120915412903),\n",
       " (135, 0.8652530312538147),\n",
       " (95, 0.6720403432846069),\n",
       " (166, 0.7377359867095947),\n",
       " (280, 0.7132941484451294),\n",
       " (59, 0.7002713084220886),\n",
       " (59, 0.9338724613189697),\n",
       " (83, 0.8646026849746704),\n",
       " (249, 0.833641767501831),\n",
       " (160, 0.7649907469749451),\n",
       " (66, 0.7970170974731445),\n",
       " (84, 0.7069308757781982),\n",
       " (102, 0.8291980028152466),\n",
       " (211, 0.7416702508926392),\n",
       " (94, 0.7445439100265503),\n",
       " (145, 0.8625643849372864),\n",
       " (88, 0.7129958271980286),\n",
       " (73, 0.8493179082870483),\n",
       " (77, 0.7071133852005005),\n",
       " (227, 0.8651610016822815),\n",
       " (223, 0.6924315690994263),\n",
       " (247, 0.7065114378929138),\n",
       " (276, 0.8763464689254761),\n",
       " (198, 0.8023218512535095),\n",
       " (64, 0.7993173599243164),\n",
       " (248, 0.7028876543045044),\n",
       " (64, 0.7430040240287781),\n",
       " (110, 0.9163229465484619),\n",
       " (80, 0.8129451870918274),\n",
       " (124, 0.6917229294776917),\n",
       " (118, 0.7137389183044434),\n",
       " (119, 0.7506102919578552),\n",
       " (107, 0.9507554769515991),\n",
       " (278, 0.6826756596565247),\n",
       " (54, 0.7597067952156067),\n",
       " (195, 0.794563353061676),\n",
       " (106, 0.841836154460907),\n",
       " (247, 0.7644630074501038),\n",
       " (104, 0.9633334875106812),\n",
       " (84, 0.7502979040145874),\n",
       " (102, 0.7309123873710632),\n",
       " (98, 0.9224741458892822),\n",
       " (136, 0.7919096350669861),\n",
       " (219, 0.6706663966178894),\n",
       " (93, 0.881106436252594),\n",
       " (158, 0.7181316614151001),\n",
       " (104, 0.9673938751220703),\n",
       " (77, 0.7258331179618835),\n",
       " (284, 0.7467237710952759),\n",
       " (119, 0.9416342973709106),\n",
       " (259, 0.8914549350738525),\n",
       " (120, 0.945159912109375),\n",
       " (37, 0.8587563633918762),\n",
       " (119, 0.936397910118103),\n",
       " (120, 0.9542216062545776),\n",
       " (296, 0.7487366795539856),\n",
       " (226, 0.7790688872337341),\n",
       " (205, 0.7341318130493164),\n",
       " (30, 0.6515279412269592),\n",
       " (231, 0.8845061659812927),\n",
       " (109, 0.5508090853691101),\n",
       " (133, 0.8262656331062317),\n",
       " (135, 0.8963476419448853),\n",
       " (211, 0.664052426815033),\n",
       " (194, 0.7294436693191528),\n",
       " (267, 0.6498405337333679),\n",
       " (118, 0.9044523239135742),\n",
       " (127, 0.838680624961853),\n",
       " (29, 0.7329199910163879),\n",
       " (128, 0.8653650879859924),\n",
       " (108, 0.8275996446609497),\n",
       " (203, 0.802679717540741),\n",
       " (202, 0.5985983610153198),\n",
       " (104, 0.8322335481643677),\n",
       " (167, 0.7118738293647766),\n",
       " (133, 0.7326577305793762),\n",
       " (119, 0.7844288945198059),\n",
       " (1, 0.6988967061042786),\n",
       " (189, 0.6422406435012817),\n",
       " (81, 0.8686768412590027),\n",
       " (112, 0.8270029425621033),\n",
       " (115, 0.791695773601532),\n",
       " (60, 0.8637186884880066),\n",
       " (30, 0.7610669732093811),\n",
       " (156, 0.957316517829895),\n",
       " (185, 0.7126810550689697),\n",
       " (148, 0.6529115438461304),\n",
       " (50, 0.799630880355835),\n",
       " (218, 0.7852528095245361),\n",
       " (103, 0.757889449596405),\n",
       " (156, 0.9554829001426697),\n",
       " (23, 0.700639009475708),\n",
       " (246, 0.7843807339668274),\n",
       " (58, 0.8004369735717773),\n",
       " (75, 0.7668367028236389),\n",
       " (168, 0.8013614416122437),\n",
       " (119, 0.7411208152770996),\n",
       " (298, 0.6266622543334961),\n",
       " (290, 0.7149872779846191),\n",
       " (70, 0.7540813088417053),\n",
       " (225, 0.7847663760185242),\n",
       " (140, 0.7218979001045227),\n",
       " (161, 0.7764931917190552),\n",
       " (125, 0.6734027862548828),\n",
       " (244, 0.8367829918861389),\n",
       " (202, 0.7777755260467529),\n",
       " (136, 0.753122091293335),\n",
       " (29, 0.845020055770874),\n",
       " (167, 0.655735433101654),\n",
       " (150, 0.7569846510887146),\n",
       " (159, 0.8520552515983582),\n",
       " (145, 0.7632591724395752),\n",
       " (9, 0.7185277938842773),\n",
       " (22, 0.7947630882263184),\n",
       " (154, 0.737825334072113),\n",
       " (188, 0.7978554964065552),\n",
       " (191, 0.9273581504821777),\n",
       " (58, 0.8263794183731079),\n",
       " (173, 0.839001476764679),\n",
       " (206, 0.7477359771728516),\n",
       " (234, 0.6624197363853455),\n",
       " (135, 0.9286413192749023),\n",
       " (181, 0.807040274143219),\n",
       " (123, 0.7411114573478699),\n",
       " (165, 0.6619048714637756),\n",
       " (182, 0.9467414021492004),\n",
       " (159, 0.8436950445175171),\n",
       " (171, 0.7225300669670105),\n",
       " (103, 0.7719482779502869),\n",
       " (135, 0.8719774484634399),\n",
       " (95, 0.8293359875679016),\n",
       " (110, 0.844062328338623),\n",
       " (89, 0.715262234210968),\n",
       " (206, 0.7844741344451904),\n",
       " (58, 0.8267678618431091),\n",
       " (259, 0.8744513988494873),\n",
       " (53, 0.7104830741882324),\n",
       " (137, 0.7851117253303528),\n",
       " (155, 0.6718950867652893),\n",
       " (123, 0.8392338752746582),\n",
       " (199, 0.8222888112068176),\n",
       " (241, 0.77691251039505),\n",
       " (277, 0.83234041929245),\n",
       " (292, 0.775671660900116),\n",
       " (225, 0.8260773420333862),\n",
       " (38, 0.7802374958992004),\n",
       " (213, 0.6688629984855652),\n",
       " (271, 0.7463808059692383),\n",
       " (29, 0.7067268490791321),\n",
       " (17, 0.8325990438461304),\n",
       " (243, 0.7279115915298462),\n",
       " (28, 0.6789504289627075),\n",
       " (154, 0.7388032078742981),\n",
       " (211, 0.7930856347084045),\n",
       " (60, 0.872401773929596),\n",
       " (245, 0.7218201160430908),\n",
       " (185, 0.7392358183860779),\n",
       " (85, 0.8176782131195068),\n",
       " (181, 0.7001532316207886),\n",
       " (210, 0.773440420627594),\n",
       " (233, 0.748651921749115),\n",
       " (85, 0.7905305624008179),\n",
       " (218, 0.7278202176094055),\n",
       " (270, 0.7827794551849365),\n",
       " (236, 0.9530039429664612),\n",
       " (125, 0.8875464797019958),\n",
       " (241, 0.9703242182731628),\n",
       " (226, 0.721660315990448),\n",
       " (210, 0.7792056202888489),\n",
       " (220, 0.8437258005142212),\n",
       " (236, 0.9517055749893188),\n",
       " (175, 0.7563695311546326),\n",
       " (53, 0.7599300146102905),\n",
       " (265, 0.8665739893913269),\n",
       " (76, 0.7947137355804443),\n",
       " (241, 0.9669706225395203),\n",
       " (14, 0.8265407681465149),\n",
       " (249, 0.8259677886962891),\n",
       " (170, 0.802895724773407),\n",
       " (221, 0.7166337966918945),\n",
       " (158, 0.8072471022605896),\n",
       " (262, 0.8379788994789124),\n",
       " (91, 0.8058940768241882),\n",
       " (74, 0.7741574048995972),\n",
       " (201, 0.8669387102127075),\n",
       " (31, 0.7523735761642456),\n",
       " (106, 0.7146793007850647),\n",
       " (237, 0.5555973649024963),\n",
       " (236, 0.8154141306877136),\n",
       " (0, 0.7979536652565002),\n",
       " (205, 0.8302417397499084),\n",
       " (226, 0.7003176212310791),\n",
       " (118, 0.8499235510826111),\n",
       " (201, 0.9106632471084595),\n",
       " (195, 0.7662100791931152),\n",
       " (74, 0.8235330581665039),\n",
       " (278, 0.824604868888855),\n",
       " (263, 0.9340540170669556),\n",
       " (10, 0.7056589722633362),\n",
       " (239, 0.8387637138366699),\n",
       " (258, 0.822403609752655),\n",
       " (148, 0.8730385303497314),\n",
       " (50, 0.7849215269088745),\n",
       " (57, 0.7009273171424866),\n",
       " (102, 0.7994722723960876),\n",
       " (263, 0.9383535385131836),\n",
       " (40, 0.8359721302986145),\n",
       " (199, 0.8114863038063049),\n",
       " (293, 0.7364805340766907),\n",
       " (132, 0.8345968127250671),\n",
       " (88, 0.8569356203079224),\n",
       " (145, 0.9042880535125732),\n",
       " (262, 0.8292396068572998),\n",
       " (244, 0.8517208695411682),\n",
       " (70, 0.693791925907135),\n",
       " (288, 0.9486622214317322),\n",
       " (156, 0.7329903244972229),\n",
       " (299, 0.575143575668335),\n",
       " (107, 0.7733278274536133),\n",
       " (251, 0.8043591976165771),\n",
       " (65, 0.5995641350746155),\n",
       " (262, 0.8150097131729126),\n",
       " (288, 0.9538069367408752),\n",
       " (298, 0.697441577911377),\n",
       " (164, 0.6280645728111267),\n",
       " (203, 0.8061248064041138),\n",
       " (249, 0.7929219603538513),\n",
       " (130, 0.7881917357444763),\n",
       " (67, 0.6423448324203491),\n",
       " (290, 0.566214919090271),\n",
       " (285, 0.6636953949928284),\n",
       " (26, 0.698208749294281),\n",
       " (22, 0.7329886555671692),\n",
       " (104, 0.7795938849449158)]"
      ]
     },
     "execution_count": 12,
     "metadata": {},
     "output_type": "execute_result"
    }
   ],
   "source": [
    "second_ranks"
   ]
  },
  {
   "cell_type": "code",
   "execution_count": 13,
   "metadata": {},
   "outputs": [
    {
     "data": {
      "text/plain": [
       "TaggedDocument(words=['six', 'midwives', 'have', 'been', 'suspended', 'at', 'wollongong', 'hospital', 'south', 'of', 'sydney', 'for', 'inappropriate', 'use', 'of', 'nitrous', 'oxide', 'during', 'work', 'hours', 'on', 'some', 'occasions', 'while', 'women', 'were', 'in', 'labour', 'the', 'illawarra', 'area', 'health', 'service', 'says', 'that', 'following', 'an', 'investigation', 'of', 'unprofessional', 'conduct', 'further', 'four', 'midwives', 'have', 'been', 'relocated', 'to', 'other', 'areas', 'within', 'the', 'hospital', 'the', 'service', 'chief', 'executive', 'officer', 'tony', 'sherbon', 'says', 'no', 'one', 'was', 'put', 'at', 'risk', 'because', 'other', 'staff', 'not', 'involved', 'in', 'the', 'use', 'of', 'nitrous', 'oxide', 'were', 'able', 'to', 'take', 'over', 'caring', 'for', 'women', 'in', 'labour', 'well', 'we', 're', 'very', 'concerned', 'and', 'the', 'body', 'of', 'midwives', 'to', 'the', 'hospital', 'there', 'are', 'over', 'midwives', 'that', 'work', 'in', 'our', 'service', 'are', 'very', 'annoyed', 'and', 'angry', 'at', 'the', 'inappropriate', 'behaviour', 'of', 'these', 'very', 'senior', 'people', 'who', 'should', 'know', 'better', 'he', 'said', 'and', 'that', 'why', 'we', 've', 'take', 'the', 'action', 'of', 'suspending', 'them', 'and', 'we', 'll', 'consider', 'further', 'action', 'next', 'week'], tags=[4])"
      ]
     },
     "execution_count": 13,
     "metadata": {},
     "output_type": "execute_result"
    }
   ],
   "source": [
    "train_corpus[4]"
   ]
  },
  {
   "cell_type": "code",
   "execution_count": 14,
   "metadata": {},
   "outputs": [
    {
     "name": "stdout",
     "output_type": "stream",
     "text": [
      "Counter({0: 292, 1: 8})\n"
     ]
    }
   ],
   "source": [
    "import collections\n",
    "\n",
    "counter = collections.Counter(ranks)\n",
    "print(counter)"
   ]
  },
  {
   "cell_type": "code",
   "execution_count": 15,
   "metadata": {},
   "outputs": [
    {
     "name": "stdout",
     "output_type": "stream",
     "text": [
      "Document (299): «australia will take on france in the doubles rubber of the davis cup tennis final today with the tie levelled at wayne arthurs and todd woodbridge are scheduled to lead australia in the doubles against cedric pioline and fabrice santoro however changes can be made to the line up up to an hour before the match and australian team captain john fitzgerald suggested he might do just that we ll make team appraisal of the whole situation go over the pros and cons and make decision french team captain guy forget says he will not make changes but does not know what to expect from australia todd is the best doubles player in the world right now so expect him to play he said would probably use wayne arthurs but don know what to expect really pat rafter salvaged australia davis cup campaign yesterday with win in the second singles match rafter overcame an arm injury to defeat french number one sebastien grosjean in three sets the australian says he is happy with his form it not very pretty tennis there isn too many consistent bounces you are playing like said bit of classic old grass court rafter said rafter levelled the score after lleyton hewitt shock five set loss to nicholas escude in the first singles rubber but rafter says he felt no added pressure after hewitt defeat knew had good team to back me up even if we were down he said knew could win on the last day know the boys can win doubles so even if we were down still feel we are good enough team to win and vice versa they are good enough team to beat us as well»\n",
      "\n"
     ]
    }
   ],
   "source": [
    "print('Document ({}): «{}»\\n'.format(doc_id, ' '.join(train_corpus[doc_id].words)))"
   ]
  },
  {
   "cell_type": "code",
   "execution_count": 16,
   "metadata": {},
   "outputs": [
    {
     "name": "stdout",
     "output_type": "stream",
     "text": [
      "SIMILAR/DISSIMILAR DOCS PER MODEL Doc2Vec(dm/m,d50,n5,w5,mc2,s0.001,t3):\n",
      "\n"
     ]
    }
   ],
   "source": [
    "print(u'SIMILAR/DISSIMILAR DOCS PER MODEL %s:\\n' % model)\n"
   ]
  },
  {
   "cell_type": "code",
   "execution_count": 17,
   "metadata": {},
   "outputs": [
    {
     "name": "stdout",
     "output_type": "stream",
     "text": [
      "MOST (299, 0.957938551902771): «australia will take on france in the doubles rubber of the davis cup tennis final today with the tie levelled at wayne arthurs and todd woodbridge are scheduled to lead australia in the doubles against cedric pioline and fabrice santoro however changes can be made to the line up up to an hour before the match and australian team captain john fitzgerald suggested he might do just that we ll make team appraisal of the whole situation go over the pros and cons and make decision french team captain guy forget says he will not make changes but does not know what to expect from australia todd is the best doubles player in the world right now so expect him to play he said would probably use wayne arthurs but don know what to expect really pat rafter salvaged australia davis cup campaign yesterday with win in the second singles match rafter overcame an arm injury to defeat french number one sebastien grosjean in three sets the australian says he is happy with his form it not very pretty tennis there isn too many consistent bounces you are playing like said bit of classic old grass court rafter said rafter levelled the score after lleyton hewitt shock five set loss to nicholas escude in the first singles rubber but rafter says he felt no added pressure after hewitt defeat knew had good team to back me up even if we were down he said knew could win on the last day know the boys can win doubles so even if we were down still feel we are good enough team to win and vice versa they are good enough team to beat us as well»\n",
      "\n",
      "SECOND-MOST (104, 0.7795938849449158): «australian cricket captain steve waugh has supported fast bowler brett lee after criticism of his intimidatory bowling to the south african tailenders in the first test in adelaide earlier this month lee was fined for giving new zealand tailender shane bond an unsportsmanlike send off during the third test in perth waugh says tailenders should not be protected from short pitched bowling these days you re earning big money you ve got responsibility to learn how to bat he said mean there no times like years ago when it was not professional and sort of bowlers code these days you re professional our batsmen work very hard at their batting and expect other tailenders to do likewise meanwhile waugh says his side will need to guard against complacency after convincingly winning the first test by runs waugh says despite the dominance of his side in the first test south africa can never be taken lightly it only one test match out of three or six whichever way you want to look at it so there lot of work to go he said but it nice to win the first battle definitely it gives us lot of confidence going into melbourne you know the big crowd there we love playing in front of the boxing day crowd so that will be to our advantage as well south africa begins four day match against new south wales in sydney on thursday in the lead up to the boxing day test veteran fast bowler allan donald will play in the warm up match and is likely to take his place in the team for the second test south african captain shaun pollock expects much better performance from his side in the melbourne test we still believe that we didn play to our full potential so if we can improve on our aspects the output we put out on the field will be lot better and we still believe we have side that is good enough to beat australia on our day he said»\n",
      "\n",
      "MEDIAN (248, 0.2590419054031372): «darwin aboriginal custodians will become property developers at palmerston after the settlement of native title claim lodged seven years ago it is the first claim to be settled in the darwin region the agreement was due to be signed off before the last northern territory election but was delayed by the death of an elder son the larrakia people plan to take lease from the territory government under commercial terms and develop almost hectares in the new palmerston suburb of rosebury over the next few years the agreement will also mean that further hectares at rosebury and bellamack will be free for urban growth without native title concerns the larrakia have also withdrawn their claim from the archer sporting complex at palmerston»\n",
      "\n",
      "LEAST (243, -0.11760763078927994): «four afghan factions have reached agreement on an interim cabinet during talks in germany the united nations says the administration which will take over from december will be headed by the royalist anti taliban commander hamed karzai it concludes more than week of negotiations outside bonn and is aimed at restoring peace and stability to the war ravaged country the year old former deputy foreign minister who is currently battling the taliban around the southern city of kandahar is an ally of the exiled afghan king mohammed zahir shah he will serve as chairman of an interim authority that will govern afghanistan for six month period before loya jirga or grand traditional assembly of elders in turn appoints an month transitional government meanwhile united states marines are now reported to have been deployed in eastern afghanistan where opposition forces are closing in on al qaeda soldiers reports from the area say there has been gun battle between the opposition and al qaeda close to the tora bora cave complex where osama bin laden is thought to be hiding in the south of the country american marines are taking part in patrols around the air base they have secured near kandahar but are unlikely to take part in any assault on the city however the chairman of the joint chiefs of staff general richard myers says they are prepared for anything they are prepared for engagements they re robust fighting force and they re absolutely ready to engage if that required he said»\n",
      "\n"
     ]
    }
   ],
   "source": [
    "for label, index in [('MOST', 0), ('SECOND-MOST', 1), ('MEDIAN', len(sims)//2), ('LEAST', len(sims) - 1)]:\n",
    "    print(u'%s %s: «%s»\\n' % (label, sims[index], ' '.join(train_corpus[sims[index][0]].words)))\n"
   ]
  },
  {
   "cell_type": "code",
   "execution_count": 18,
   "metadata": {
    "scrolled": true
   },
   "outputs": [
    {
     "name": "stdout",
     "output_type": "stream",
     "text": [
      "Train Document (75): «us president george bush has marked the th day of the campaign against terrorism by calling on his allies to freeze the assets of two non us organisations suspected of supporting terrorism one of the groups is based in kashmir the other is alleged to have helped al qaeda develop nuclear weapons president bush says former scientist at pakistan atomic program had established group called utn after assisting osama bin laden network develop nuclear bomb utn claims to serve the hungry and needy of afghanistan but it was the utn that provided information about nuclear weapons to al qaeda he said he also linked kashmiri group to the attack on the indian parliament last week lat is an extremist group based in kashmir and is stateless sponsor of terrorism he said mr bush says the international financial crackdown has frozen million in terrorist assets»\n",
      "\n",
      "Similar Document (160, 0.7649907469749451): «french moroccan man has been charged in the united states with conspiracy in the terrorist attacks of september it is the first indictment directly related to the suicide hijackings news of the charge came as president george bush delivered major foreign policy speech zaccarias moussaoui sought flying lessons month before the hijackings attorney general john ashcroft claims he was an active participant in the attacks moussaoui is charged with undergoing the same training receiving the same funding and pledging the same commitment to kill americans as the hijackers he said three months to the day since the attacks and president bush says missile defence is now more essential than ever before we must protect america and our friends against all forms of terror including the terror that could arrive on missile he said president bush says the united states now needs dramatically retooled military armed with hi tech weapons and real time intelligence»\n",
      "\n"
     ]
    }
   ],
   "source": [
    "# Pick a random document from the corpus and infer a vector from the model\n",
    "import random\n",
    "doc_id = random.randint(0, len(train_corpus) - 1)\n",
    "\n",
    "# Compare and print the second-most-similar document\n",
    "print('Train Document ({}): «{}»\\n'.format(doc_id, ' '.join(train_corpus[doc_id].words)))\n",
    "sim_id = second_ranks[doc_id]\n",
    "print('Similar Document {}: «{}»\\n'.format(sim_id, ' '.join(train_corpus[sim_id[0]].words)))"
   ]
  },
  {
   "cell_type": "code",
   "execution_count": 19,
   "metadata": {
    "scrolled": true
   },
   "outputs": [
    {
     "name": "stdout",
     "output_type": "stream",
     "text": [
      "Test Document (4): «washington has sharply rebuked russia over bombings of georgian villages warning the raids violated georgian sovereignty and could worsen tensions between moscow and tbilisi the united states regrets the loss of life and deplores the violation of georgia sovereignty white house spokesman ari fleischer said mr fleischer said us secretary of state colin powell had delivered the same message to his russian counterpart but that the stern language did not reflect sign of souring relations between moscow and washington»\n",
      "\n",
      "SIMILAR/DISSIMILAR DOCS PER MODEL Doc2Vec(dm/m,d50,n5,w5,mc2,s0.001,t3):\n",
      "\n",
      "MOST (75, 0.7155953645706177): «us president george bush has marked the th day of the campaign against terrorism by calling on his allies to freeze the assets of two non us organisations suspected of supporting terrorism one of the groups is based in kashmir the other is alleged to have helped al qaeda develop nuclear weapons president bush says former scientist at pakistan atomic program had established group called utn after assisting osama bin laden network develop nuclear bomb utn claims to serve the hungry and needy of afghanistan but it was the utn that provided information about nuclear weapons to al qaeda he said he also linked kashmiri group to the attack on the indian parliament last week lat is an extremist group based in kashmir and is stateless sponsor of terrorism he said mr bush says the international financial crackdown has frozen million in terrorist assets»\n",
      "\n",
      "MEDIAN (181, 0.3200138807296753): «the australian transport safety bureau is investigating the overnight crash of royal flying doctor service aircraft near mount gambier in south australia south east which claimed the life of the year old pilot the crash has been described as both double tragedy and miraculous story of survival the aircraft was on approach to mount gambier airport when it came down in block of scrub and young pine trees about four kilometres short of the runway it levelled metre long path through the vegetation before breaking up and catching fire the pilot was killed but the only other person on board year old nurse from nearby millicent suffered only minor injuries chief inspector bronwyn killmier says she was stunned that the nurse walked away virtually unscathed the aircraft had been flying from port augusta to collect six year old boy and take him to sydney for liver transplant chief inspector killmier says the boy and his mother had been waiting at the airport the donor went to another person it is double tragedy mean the pilot family as well as the six year old boy family»\n",
      "\n",
      "LEAST (101, -0.00535752484574914): «ansett administrators are confident of paying out the entitlements of almost workers who opted for redundancy when the airline collapsed last september about workers have been paid their entitlements overnight and it is expected another will be paid out by the end of the week administrator mark mentha says ansett new owners will now decide how many of the remaining employees will be offered jobs with the remainder to be paid redundancy packages next year he says it was always hoped the money would be handed over before christmas as some workers had been without payment for up to weeks we would ve preferred these payments to have been made month ago but just the difficulty in terms of the sheer size of the redundancy programs being undertaken at ansett and difficulties in negotiation that have prevailed and the complexity of the federal government scheme and getting it through the federal court has certainly made life difficult but we re very pleased that the money started flowing yesterday mr mentha said»\n",
      "\n"
     ]
    }
   ],
   "source": [
    "# Pick a random document from the test corpus and infer a vector from the model\n",
    "doc_id = random.randint(0, len(test_corpus) - 1)\n",
    "inferred_vector = model.infer_vector(test_corpus[doc_id])\n",
    "sims = model.dv.most_similar([inferred_vector], topn=len(model.dv))\n",
    "\n",
    "# Compare and print the most/median/least similar documents from the train corpus\n",
    "print('Test Document ({}): «{}»\\n'.format(doc_id, ' '.join(test_corpus[doc_id])))\n",
    "print(u'SIMILAR/DISSIMILAR DOCS PER MODEL %s:\\n' % model)\n",
    "for label, index in [('MOST', 0), ('MEDIAN', len(sims)//2), ('LEAST', len(sims) - 1)]:\n",
    "    print(u'%s %s: «%s»\\n' % (label, sims[index], ' '.join(train_corpus[sims[index][0]].words)))"
   ]
  },
  {
   "cell_type": "markdown",
   "metadata": {},
   "source": [
    "### Challenge: Use the senator speeches in the folder 105-extracted-date and use doc2vec to find whose senator speech is closest to senator Biden. Use sen105kh_fix.csv and/or Wikipedia to validate your findings (i.e., understand if the most similar speeches are senators from the same state and/party).  Describe your findings. Compare with the outcome you got/will get using cosine similarity."
   ]
  },
  {
   "cell_type": "code",
   "execution_count": 20,
   "metadata": {},
   "outputs": [],
   "source": [
    "#https://radimrehurek.com/gensim/auto_examples/tutorials/run_doc2vec_lee.html"
   ]
  }
 ],
 "metadata": {
  "kernelspec": {
   "display_name": "Python 3",
   "language": "python",
   "name": "python3"
  },
  "language_info": {
   "codemirror_mode": {
    "name": "ipython",
    "version": 3
   },
   "file_extension": ".py",
   "mimetype": "text/x-python",
   "name": "python",
   "nbconvert_exporter": "python",
   "pygments_lexer": "ipython3",
   "version": "3.8.5"
  }
 },
 "nbformat": 4,
 "nbformat_minor": 4
}
