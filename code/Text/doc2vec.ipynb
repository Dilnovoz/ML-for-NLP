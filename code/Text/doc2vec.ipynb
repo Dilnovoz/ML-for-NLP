{
 "cells": [
  {
   "cell_type": "code",
   "execution_count": 1,
   "metadata": {},
   "outputs": [],
   "source": [
    "import os\n",
    "import gensim\n",
    "# Set file names for train and test data\n",
    "test_data_dir = os.path.join(gensim.__path__[0], 'test', 'test_data')\n",
    "lee_train_file = os.path.join(test_data_dir, 'lee_background.cor')\n",
    "lee_test_file = os.path.join(test_data_dir, 'lee.cor')"
   ]
  },
  {
   "cell_type": "code",
   "execution_count": 2,
   "metadata": {},
   "outputs": [],
   "source": [
    "import smart_open\n",
    "\n",
    "def read_corpus(fname, tokens_only=False):\n",
    "    with smart_open.open(fname, encoding=\"iso-8859-1\") as f:\n",
    "        for i, line in enumerate(f):\n",
    "            tokens = gensim.utils.simple_preprocess(line)\n",
    "            if tokens_only:\n",
    "                yield tokens\n",
    "            else:\n",
    "                # For training data, add tags\n",
    "                yield gensim.models.doc2vec.TaggedDocument(tokens, [i])\n",
    "\n",
    "train_corpus = list(read_corpus(lee_train_file))\n",
    "test_corpus = list(read_corpus(lee_test_file, tokens_only=True))"
   ]
  },
  {
   "cell_type": "code",
   "execution_count": 3,
   "metadata": {},
   "outputs": [],
   "source": [
    "#train_corpus\n",
    "#test_corpus"
   ]
  },
  {
   "cell_type": "code",
   "execution_count": 4,
   "metadata": {},
   "outputs": [],
   "source": [
    "model = gensim.models.doc2vec.Doc2Vec(vector_size=50, min_count=2, epochs=40)\n"
   ]
  },
  {
   "cell_type": "code",
   "execution_count": 5,
   "metadata": {},
   "outputs": [],
   "source": [
    "model.build_vocab(train_corpus)"
   ]
  },
  {
   "cell_type": "code",
   "execution_count": 6,
   "metadata": {},
   "outputs": [
    {
     "name": "stdout",
     "output_type": "stream",
     "text": [
      "Word 'australia' appeared 157 times in the training corpus.\n"
     ]
    }
   ],
   "source": [
    "print(f\"Word 'australia' appeared {model.wv.get_vecattr('australia', 'count')} times in the training corpus.\")"
   ]
  },
  {
   "cell_type": "code",
   "execution_count": 7,
   "metadata": {},
   "outputs": [],
   "source": [
    "model.train(train_corpus, total_examples=model.corpus_count, epochs=model.epochs)"
   ]
  },
  {
   "cell_type": "code",
   "execution_count": 8,
   "metadata": {},
   "outputs": [
    {
     "name": "stdout",
     "output_type": "stream",
     "text": [
      "[-0.20641747 -0.23493986 -0.08681685  0.22472623  0.03386387 -0.01482389\n",
      "  0.01273163  0.05833967 -0.22107083 -0.08874122  0.20304887 -0.13378382\n",
      " -0.08444473 -0.00545625 -0.17427847 -0.12953363  0.13086383  0.32183775\n",
      "  0.18566275 -0.12808643  0.02608993 -0.06972271  0.13313249 -0.10909095\n",
      "  0.08539014 -0.06988473 -0.2691232  -0.07086591 -0.18284194 -0.12230893\n",
      "  0.33700952 -0.0725226   0.2326886   0.09040855  0.21610518  0.00127633\n",
      " -0.03189853 -0.26475048 -0.0666502  -0.00374227 -0.14070167 -0.06916639\n",
      " -0.01841691 -0.06405579  0.1410443  -0.09293656 -0.01960086 -0.07635256\n",
      "  0.13503839  0.02712352]\n"
     ]
    }
   ],
   "source": [
    "vector = model.infer_vector(['only', 'you', 'can', 'prevent', 'forest', 'fires'])\n",
    "print(vector)"
   ]
  },
  {
   "cell_type": "code",
   "execution_count": 9,
   "metadata": {},
   "outputs": [],
   "source": [
    "sentence = ['only', 'you', 'can', 'prevent', 'forest', 'fires']\n",
    "vec = 0\n",
    "for element in sentence:\n",
    "    element = model.infer_vector([element])\n",
    "    vec = vec + element\n",
    "    \n",
    "vec=vec/len(sentence)\n",
    "        \n",
    "    "
   ]
  },
  {
   "cell_type": "code",
   "execution_count": 10,
   "metadata": {},
   "outputs": [
    {
     "data": {
      "text/plain": [
       "array([-0.2801692 , -0.04768342, -0.10730311, -0.00195926, -0.05536876,\n",
       "       -0.05625186,  0.04048744,  0.08254982, -0.14010793, -0.09819213,\n",
       "        0.05985992, -0.16058113, -0.00455775, -0.03691265, -0.11699343,\n",
       "       -0.00666013,  0.14785573,  0.13959555, -0.00341086, -0.1347454 ,\n",
       "        0.13135533,  0.04664059,  0.21051414, -0.07372337,  0.16820979,\n",
       "       -0.03975403, -0.18914346, -0.03071375, -0.11522766, -0.12680624,\n",
       "        0.09716287, -0.04009215, -0.01156241,  0.09220479, -0.02174257,\n",
       "        0.07317208,  0.1020329 , -0.07566821,  0.03784954,  0.01147579,\n",
       "        0.08291984,  0.02483455, -0.09749395, -0.04941022,  0.20798393,\n",
       "        0.05433756,  0.09135882, -0.10221431,  0.13630413,  0.01286941],\n",
       "      dtype=float32)"
      ]
     },
     "execution_count": 10,
     "metadata": {},
     "output_type": "execute_result"
    }
   ],
   "source": [
    "vec"
   ]
  },
  {
   "cell_type": "code",
   "execution_count": 11,
   "metadata": {},
   "outputs": [],
   "source": [
    "ranks = []\n",
    "second_ranks = []\n",
    "for doc_id in range(len(train_corpus)):\n",
    "    inferred_vector = model.infer_vector(train_corpus[doc_id].words)\n",
    "    sims = model.dv.most_similar([inferred_vector], topn=len(model.dv))\n",
    "    rank = [docid for docid, sim in sims].index(doc_id)\n",
    "    ranks.append(rank)\n",
    "\n",
    "    second_ranks.append(sims[1])"
   ]
  },
  {
   "cell_type": "code",
   "execution_count": 12,
   "metadata": {},
   "outputs": [
    {
     "data": {
      "text/plain": [
       "[(48, 0.8894424438476562),\n",
       " (143, 0.7728396058082581),\n",
       " (21, 0.83701491355896),\n",
       " (66, 0.662865161895752),\n",
       " (33, 0.7096188068389893),\n",
       " (84, 0.6342315077781677),\n",
       " (17, 0.7935008406639099),\n",
       " (15, 0.8390064239501953),\n",
       " (48, 0.8982731699943542),\n",
       " (8, 0.8013573884963989),\n",
       " (264, 0.8030199408531189),\n",
       " (188, 0.7259587049484253),\n",
       " (26, 0.6875147819519043),\n",
       " (292, 0.7641969323158264),\n",
       " (277, 0.8702235817909241),\n",
       " (39, 0.8304497599601746),\n",
       " (55, 0.8592981100082397),\n",
       " (6, 0.8544087409973145),\n",
       " (2, 0.6973508596420288),\n",
       " (40, 0.7800583839416504),\n",
       " (150, 0.6638279557228088),\n",
       " (2, 0.8808373212814331),\n",
       " (179, 0.7735890746116638),\n",
       " (56, 0.7653254866600037),\n",
       " (188, 0.6759280562400818),\n",
       " (10, 0.8551639914512634),\n",
       " (12, 0.7728879451751709),\n",
       " (15, 0.8890668153762817),\n",
       " (56, 0.745710015296936),\n",
       " (173, 0.7765018939971924),\n",
       " (121, 0.7068313360214233),\n",
       " (251, 0.7056076526641846),\n",
       " (258, 0.7453994750976562),\n",
       " (8, 0.871019184589386),\n",
       " (12, 0.6446264982223511),\n",
       " (127, 0.7404513359069824),\n",
       " (224, 0.4976302683353424),\n",
       " (118, 0.8523092865943909),\n",
       " (211, 0.7520433664321899),\n",
       " (15, 0.8365394473075867),\n",
       " (48, 0.9038848876953125),\n",
       " (166, 0.7471730709075928),\n",
       " (182, 0.7122448086738586),\n",
       " (21, 0.8943434357643127),\n",
       " (81, 0.8507615923881531),\n",
       " (130, 0.6766042709350586),\n",
       " (10, 0.8036344051361084),\n",
       " (139, 0.8376170992851257),\n",
       " (0, 0.9079941511154175),\n",
       " (160, 0.5999332070350647),\n",
       " (268, 0.8119889497756958),\n",
       " (141, 0.7274428606033325),\n",
       " (25, 0.8293134570121765),\n",
       " (202, 0.7396911382675171),\n",
       " (23, 0.7423432469367981),\n",
       " (16, 0.8602497577667236),\n",
       " (23, 0.7744618654251099),\n",
       " (74, 0.758167028427124),\n",
       " (183, 0.8270111680030823),\n",
       " (72, 0.9594853520393372),\n",
       " (220, 0.8339963555335999),\n",
       " (204, 0.6575354933738708),\n",
       " (188, 0.755560040473938),\n",
       " (19, 0.6107618808746338),\n",
       " (83, 0.8210161924362183),\n",
       " (225, 0.6791009306907654),\n",
       " (76, 0.7429531216621399),\n",
       " (135, 0.8406870365142822),\n",
       " (196, 0.6483325362205505),\n",
       " (166, 0.8165574669837952),\n",
       " (280, 0.7031186819076538),\n",
       " (207, 0.6966409087181091),\n",
       " (59, 0.9414387345314026),\n",
       " (83, 0.8544523119926453),\n",
       " (249, 0.8210524320602417),\n",
       " (160, 0.806925356388092),\n",
       " (66, 0.7781784534454346),\n",
       " (89, 0.6898543834686279),\n",
       " (102, 0.8092454075813293),\n",
       " (109, 0.7397622466087341),\n",
       " (94, 0.7651242017745972),\n",
       " (145, 0.8528652787208557),\n",
       " (74, 0.7209543585777283),\n",
       " (73, 0.8298776745796204),\n",
       " (105, 0.7118476629257202),\n",
       " (227, 0.8574990034103394),\n",
       " (223, 0.7306354641914368),\n",
       " (247, 0.6725057363510132),\n",
       " (276, 0.8956152200698853),\n",
       " (84, 0.7531526684761047),\n",
       " (73, 0.7804428935050964),\n",
       " (248, 0.6982312202453613),\n",
       " (64, 0.7649794220924377),\n",
       " (110, 0.9083430767059326),\n",
       " (80, 0.8432914614677429),\n",
       " (196, 0.6786150932312012),\n",
       " (118, 0.700139045715332),\n",
       " (147, 0.7492707967758179),\n",
       " (107, 0.9457049369812012),\n",
       " (278, 0.7087121605873108),\n",
       " (54, 0.7412846088409424),\n",
       " (260, 0.7959075570106506),\n",
       " (106, 0.8334972262382507),\n",
       " (247, 0.7761618494987488),\n",
       " (104, 0.9683112502098083),\n",
       " (84, 0.7575548887252808),\n",
       " (102, 0.715548574924469),\n",
       " (98, 0.9189088940620422),\n",
       " (136, 0.7744722366333008),\n",
       " (79, 0.6872283816337585),\n",
       " (93, 0.8755764365196228),\n",
       " (158, 0.7406359910964966),\n",
       " (104, 0.966886043548584),\n",
       " (77, 0.7206177115440369),\n",
       " (284, 0.7491323351860046),\n",
       " (119, 0.9268208146095276),\n",
       " (259, 0.8668164610862732),\n",
       " (117, 0.9493058919906616),\n",
       " (37, 0.8722622394561768),\n",
       " (119, 0.9242614507675171),\n",
       " (120, 0.9504413604736328),\n",
       " (170, 0.7051392793655396),\n",
       " (226, 0.7628446817398071),\n",
       " (30, 0.7523961663246155),\n",
       " (22, 0.6474018096923828),\n",
       " (231, 0.9077429175376892),\n",
       " (109, 0.5636652112007141),\n",
       " (133, 0.8541051149368286),\n",
       " (135, 0.9022582769393921),\n",
       " (211, 0.6777936816215515),\n",
       " (194, 0.7589941620826721),\n",
       " (227, 0.6273744106292725),\n",
       " (118, 0.9166429042816162),\n",
       " (127, 0.8215451240539551),\n",
       " (235, 0.7527716159820557),\n",
       " (128, 0.8427925109863281),\n",
       " (108, 0.8206678628921509),\n",
       " (203, 0.8297023177146912),\n",
       " (228, 0.5809676051139832),\n",
       " (112, 0.8640255331993103),\n",
       " (167, 0.6930714249610901),\n",
       " (133, 0.7442309260368347),\n",
       " (119, 0.776483416557312),\n",
       " (1, 0.719268262386322),\n",
       " (189, 0.6727554798126221),\n",
       " (81, 0.8612855076789856),\n",
       " (112, 0.8304846882820129),\n",
       " (119, 0.7764568328857422),\n",
       " (220, 0.8627973198890686),\n",
       " (30, 0.7473069429397583),\n",
       " (156, 0.9610182642936707),\n",
       " (185, 0.6967775821685791),\n",
       " (148, 0.6558582782745361),\n",
       " (50, 0.7629258632659912),\n",
       " (218, 0.8047267198562622),\n",
       " (103, 0.7176499366760254),\n",
       " (156, 0.9631076455116272),\n",
       " (23, 0.6990078687667847),\n",
       " (246, 0.7949936389923096),\n",
       " (58, 0.8075383901596069),\n",
       " (75, 0.807019054889679),\n",
       " (168, 0.7982481122016907),\n",
       " (209, 0.752722978591919),\n",
       " (66, 0.6996493935585022),\n",
       " (65, 0.6949795484542847),\n",
       " (70, 0.7171293497085571),\n",
       " (225, 0.8105294704437256),\n",
       " (140, 0.727399468421936),\n",
       " (161, 0.768236517906189),\n",
       " (223, 0.67682945728302),\n",
       " (244, 0.8386039733886719),\n",
       " (123, 0.7397996187210083),\n",
       " (30, 0.7297084331512451),\n",
       " (184, 0.8206221461296082),\n",
       " (167, 0.6458778381347656),\n",
       " (156, 0.7501579523086548),\n",
       " (159, 0.8642606735229492),\n",
       " (145, 0.7647997736930847),\n",
       " (9, 0.7044773101806641),\n",
       " (22, 0.8033137917518616),\n",
       " (154, 0.7381265759468079),\n",
       " (188, 0.8018947839736938),\n",
       " (191, 0.934220016002655),\n",
       " (58, 0.8213147521018982),\n",
       " (173, 0.827800989151001),\n",
       " (206, 0.7671169638633728),\n",
       " (234, 0.6536310315132141),\n",
       " (135, 0.9346186518669128),\n",
       " (181, 0.7905033826828003),\n",
       " (123, 0.7247601747512817),\n",
       " (271, 0.686421275138855),\n",
       " (182, 0.9391644597053528),\n",
       " (159, 0.8325405716896057),\n",
       " (244, 0.7457156777381897),\n",
       " (103, 0.7822461128234863),\n",
       " (135, 0.8755109906196594),\n",
       " (207, 0.8411296606063843),\n",
       " (110, 0.8545728921890259),\n",
       " (89, 0.7190629243850708),\n",
       " (206, 0.7892848253250122),\n",
       " (58, 0.853653609752655),\n",
       " (250, 0.8982294797897339),\n",
       " (53, 0.6961037516593933),\n",
       " (137, 0.7730239033699036),\n",
       " (155, 0.6895948052406311),\n",
       " (123, 0.8273625373840332),\n",
       " (199, 0.8202840089797974),\n",
       " (241, 0.7808577418327332),\n",
       " (277, 0.8330682516098022),\n",
       " (292, 0.7945045232772827),\n",
       " (225, 0.8341089487075806),\n",
       " (219, 0.7658324241638184),\n",
       " (181, 0.6706241369247437),\n",
       " (263, 0.7076863646507263),\n",
       " (29, 0.6871808767318726),\n",
       " (17, 0.8077467083930969),\n",
       " (243, 0.7488701343536377),\n",
       " (28, 0.6873831152915955),\n",
       " (154, 0.7491706609725952),\n",
       " (211, 0.7528156638145447),\n",
       " (148, 0.8824806809425354),\n",
       " (245, 0.6927637457847595),\n",
       " (185, 0.7309701442718506),\n",
       " (85, 0.7920671701431274),\n",
       " (181, 0.7057016491889954),\n",
       " (166, 0.7754453420639038),\n",
       " (233, 0.7609755396842957),\n",
       " (85, 0.7959505319595337),\n",
       " (180, 0.7023889422416687),\n",
       " (270, 0.7864736318588257),\n",
       " (236, 0.9586875438690186),\n",
       " (125, 0.9042883515357971),\n",
       " (241, 0.9726992845535278),\n",
       " (226, 0.7479508519172668),\n",
       " (210, 0.7995504140853882),\n",
       " (60, 0.8415740728378296),\n",
       " (236, 0.9577617645263672),\n",
       " (175, 0.7487435936927795),\n",
       " (78, 0.7608720064163208),\n",
       " (265, 0.8590019941329956),\n",
       " (76, 0.7568967342376709),\n",
       " (241, 0.970954418182373),\n",
       " (208, 0.8370670676231384),\n",
       " (249, 0.8169373869895935),\n",
       " (170, 0.8212973475456238),\n",
       " (228, 0.6898261308670044),\n",
       " (158, 0.8075990676879883),\n",
       " (262, 0.8512234091758728),\n",
       " (91, 0.7877164483070374),\n",
       " (74, 0.7259148359298706),\n",
       " (201, 0.876915693283081),\n",
       " (31, 0.7119433879852295),\n",
       " (106, 0.7067162990570068),\n",
       " (237, 0.556951105594635),\n",
       " (230, 0.812230110168457),\n",
       " (0, 0.807978630065918),\n",
       " (205, 0.8204755783081055),\n",
       " (226, 0.6726741790771484),\n",
       " (118, 0.8413473963737488),\n",
       " (201, 0.909684956073761),\n",
       " (128, 0.7488172054290771),\n",
       " (74, 0.7932312488555908),\n",
       " (247, 0.8501868844032288),\n",
       " (271, 0.9299965500831604),\n",
       " (272, 0.7281818985939026),\n",
       " (239, 0.8549607992172241),\n",
       " (258, 0.8138514161109924),\n",
       " (93, 0.8496859669685364),\n",
       " (50, 0.7675718665122986),\n",
       " (3, 0.6877468824386597),\n",
       " (229, 0.8342592120170593),\n",
       " (271, 0.9333655834197998),\n",
       " (255, 0.8459850549697876),\n",
       " (278, 0.8270611763000488),\n",
       " (293, 0.7281354665756226),\n",
       " (132, 0.8303369879722595),\n",
       " (88, 0.8467060327529907),\n",
       " (208, 0.8927825689315796),\n",
       " (262, 0.8399467468261719),\n",
       " (244, 0.8636945486068726),\n",
       " (70, 0.7207310199737549),\n",
       " (288, 0.9559149742126465),\n",
       " (156, 0.7324270606040955),\n",
       " (134, 0.5739238858222961),\n",
       " (107, 0.7929750084877014),\n",
       " (251, 0.8135164976119995),\n",
       " (210, 0.6376258134841919),\n",
       " (247, 0.8283538818359375),\n",
       " (288, 0.9586061239242554),\n",
       " (298, 0.6686795353889465),\n",
       " (210, 0.6728007197380066),\n",
       " (203, 0.7957064509391785),\n",
       " (13, 0.7865943312644958),\n",
       " (130, 0.7678520083427429),\n",
       " (67, 0.6462880373001099),\n",
       " (65, 0.5957639217376709),\n",
       " (285, 0.6850157380104065),\n",
       " (26, 0.6809105277061462),\n",
       " (193, 0.7402876019477844),\n",
       " (104, 0.7869580984115601)]"
      ]
     },
     "execution_count": 12,
     "metadata": {},
     "output_type": "execute_result"
    }
   ],
   "source": [
    "second_ranks"
   ]
  },
  {
   "cell_type": "code",
   "execution_count": 13,
   "metadata": {},
   "outputs": [
    {
     "data": {
      "text/plain": [
       "TaggedDocument(words=['six', 'midwives', 'have', 'been', 'suspended', 'at', 'wollongong', 'hospital', 'south', 'of', 'sydney', 'for', 'inappropriate', 'use', 'of', 'nitrous', 'oxide', 'during', 'work', 'hours', 'on', 'some', 'occasions', 'while', 'women', 'were', 'in', 'labour', 'the', 'illawarra', 'area', 'health', 'service', 'says', 'that', 'following', 'an', 'investigation', 'of', 'unprofessional', 'conduct', 'further', 'four', 'midwives', 'have', 'been', 'relocated', 'to', 'other', 'areas', 'within', 'the', 'hospital', 'the', 'service', 'chief', 'executive', 'officer', 'tony', 'sherbon', 'says', 'no', 'one', 'was', 'put', 'at', 'risk', 'because', 'other', 'staff', 'not', 'involved', 'in', 'the', 'use', 'of', 'nitrous', 'oxide', 'were', 'able', 'to', 'take', 'over', 'caring', 'for', 'women', 'in', 'labour', 'well', 'we', 're', 'very', 'concerned', 'and', 'the', 'body', 'of', 'midwives', 'to', 'the', 'hospital', 'there', 'are', 'over', 'midwives', 'that', 'work', 'in', 'our', 'service', 'are', 'very', 'annoyed', 'and', 'angry', 'at', 'the', 'inappropriate', 'behaviour', 'of', 'these', 'very', 'senior', 'people', 'who', 'should', 'know', 'better', 'he', 'said', 'and', 'that', 'why', 'we', 've', 'take', 'the', 'action', 'of', 'suspending', 'them', 'and', 'we', 'll', 'consider', 'further', 'action', 'next', 'week'], tags=[4])"
      ]
     },
     "execution_count": 13,
     "metadata": {},
     "output_type": "execute_result"
    }
   ],
   "source": [
    "train_corpus[4]"
   ]
  },
  {
   "cell_type": "code",
   "execution_count": 14,
   "metadata": {},
   "outputs": [
    {
     "name": "stdout",
     "output_type": "stream",
     "text": [
      "Counter({0: 291, 1: 9})\n"
     ]
    }
   ],
   "source": [
    "import collections\n",
    "\n",
    "counter = collections.Counter(ranks)\n",
    "print(counter)"
   ]
  },
  {
   "cell_type": "code",
   "execution_count": 15,
   "metadata": {},
   "outputs": [
    {
     "name": "stdout",
     "output_type": "stream",
     "text": [
      "Document (299): «australia will take on france in the doubles rubber of the davis cup tennis final today with the tie levelled at wayne arthurs and todd woodbridge are scheduled to lead australia in the doubles against cedric pioline and fabrice santoro however changes can be made to the line up up to an hour before the match and australian team captain john fitzgerald suggested he might do just that we ll make team appraisal of the whole situation go over the pros and cons and make decision french team captain guy forget says he will not make changes but does not know what to expect from australia todd is the best doubles player in the world right now so expect him to play he said would probably use wayne arthurs but don know what to expect really pat rafter salvaged australia davis cup campaign yesterday with win in the second singles match rafter overcame an arm injury to defeat french number one sebastien grosjean in three sets the australian says he is happy with his form it not very pretty tennis there isn too many consistent bounces you are playing like said bit of classic old grass court rafter said rafter levelled the score after lleyton hewitt shock five set loss to nicholas escude in the first singles rubber but rafter says he felt no added pressure after hewitt defeat knew had good team to back me up even if we were down he said knew could win on the last day know the boys can win doubles so even if we were down still feel we are good enough team to win and vice versa they are good enough team to beat us as well»\n",
      "\n"
     ]
    }
   ],
   "source": [
    "print('Document ({}): «{}»\\n'.format(doc_id, ' '.join(train_corpus[doc_id].words)))"
   ]
  },
  {
   "cell_type": "code",
   "execution_count": 16,
   "metadata": {},
   "outputs": [
    {
     "name": "stdout",
     "output_type": "stream",
     "text": [
      "SIMILAR/DISSIMILAR DOCS PER MODEL Doc2Vec(dm/m,d50,n5,w5,mc2,s0.001,t3):\n",
      "\n"
     ]
    }
   ],
   "source": [
    "print(u'SIMILAR/DISSIMILAR DOCS PER MODEL %s:\\n' % model)\n"
   ]
  },
  {
   "cell_type": "code",
   "execution_count": 17,
   "metadata": {},
   "outputs": [
    {
     "name": "stdout",
     "output_type": "stream",
     "text": [
      "MOST (299, 0.9433698058128357): «australia will take on france in the doubles rubber of the davis cup tennis final today with the tie levelled at wayne arthurs and todd woodbridge are scheduled to lead australia in the doubles against cedric pioline and fabrice santoro however changes can be made to the line up up to an hour before the match and australian team captain john fitzgerald suggested he might do just that we ll make team appraisal of the whole situation go over the pros and cons and make decision french team captain guy forget says he will not make changes but does not know what to expect from australia todd is the best doubles player in the world right now so expect him to play he said would probably use wayne arthurs but don know what to expect really pat rafter salvaged australia davis cup campaign yesterday with win in the second singles match rafter overcame an arm injury to defeat french number one sebastien grosjean in three sets the australian says he is happy with his form it not very pretty tennis there isn too many consistent bounces you are playing like said bit of classic old grass court rafter said rafter levelled the score after lleyton hewitt shock five set loss to nicholas escude in the first singles rubber but rafter says he felt no added pressure after hewitt defeat knew had good team to back me up even if we were down he said knew could win on the last day know the boys can win doubles so even if we were down still feel we are good enough team to win and vice versa they are good enough team to beat us as well»\n",
      "\n",
      "SECOND-MOST (104, 0.7869580984115601): «australian cricket captain steve waugh has supported fast bowler brett lee after criticism of his intimidatory bowling to the south african tailenders in the first test in adelaide earlier this month lee was fined for giving new zealand tailender shane bond an unsportsmanlike send off during the third test in perth waugh says tailenders should not be protected from short pitched bowling these days you re earning big money you ve got responsibility to learn how to bat he said mean there no times like years ago when it was not professional and sort of bowlers code these days you re professional our batsmen work very hard at their batting and expect other tailenders to do likewise meanwhile waugh says his side will need to guard against complacency after convincingly winning the first test by runs waugh says despite the dominance of his side in the first test south africa can never be taken lightly it only one test match out of three or six whichever way you want to look at it so there lot of work to go he said but it nice to win the first battle definitely it gives us lot of confidence going into melbourne you know the big crowd there we love playing in front of the boxing day crowd so that will be to our advantage as well south africa begins four day match against new south wales in sydney on thursday in the lead up to the boxing day test veteran fast bowler allan donald will play in the warm up match and is likely to take his place in the team for the second test south african captain shaun pollock expects much better performance from his side in the melbourne test we still believe that we didn play to our full potential so if we can improve on our aspects the output we put out on the field will be lot better and we still believe we have side that is good enough to beat australia on our day he said»\n",
      "\n",
      "MEDIAN (22, 0.240964874625206): «the federal government says new national fuel quality standards for petrol and diesel will greatly reduce toxic emissions from cars and trucks the federal minister for the environment david kemp says state and territory inspectors will conduct random fuel sampling at refineries distributor terminals and petrol stations across the country he says the new laws introduced today will cut the pollution from vehicles and it is hoped this will lead to reduction in respiratory illness in the community lead in petrol will be prohibited under the new laws the million cars built prior to which use leaded petrol will be required to use lead replacement petrol mr kemp says it is expected emissions of major pollutants such as benzene and carbon monoxide will be reduced by at least per cent by by emissions of those pollutants will be reduced by per cent»\n",
      "\n",
      "LEAST (243, -0.11263678967952728): «four afghan factions have reached agreement on an interim cabinet during talks in germany the united nations says the administration which will take over from december will be headed by the royalist anti taliban commander hamed karzai it concludes more than week of negotiations outside bonn and is aimed at restoring peace and stability to the war ravaged country the year old former deputy foreign minister who is currently battling the taliban around the southern city of kandahar is an ally of the exiled afghan king mohammed zahir shah he will serve as chairman of an interim authority that will govern afghanistan for six month period before loya jirga or grand traditional assembly of elders in turn appoints an month transitional government meanwhile united states marines are now reported to have been deployed in eastern afghanistan where opposition forces are closing in on al qaeda soldiers reports from the area say there has been gun battle between the opposition and al qaeda close to the tora bora cave complex where osama bin laden is thought to be hiding in the south of the country american marines are taking part in patrols around the air base they have secured near kandahar but are unlikely to take part in any assault on the city however the chairman of the joint chiefs of staff general richard myers says they are prepared for anything they are prepared for engagements they re robust fighting force and they re absolutely ready to engage if that required he said»\n",
      "\n"
     ]
    }
   ],
   "source": [
    "for label, index in [('MOST', 0), ('SECOND-MOST', 1), ('MEDIAN', len(sims)//2), ('LEAST', len(sims) - 1)]:\n",
    "    print(u'%s %s: «%s»\\n' % (label, sims[index], ' '.join(train_corpus[sims[index][0]].words)))\n"
   ]
  },
  {
   "cell_type": "code",
   "execution_count": 18,
   "metadata": {
    "scrolled": true
   },
   "outputs": [
    {
     "name": "stdout",
     "output_type": "stream",
     "text": [
      "Train Document (92): «federal labor mp carmen lawrence says there is lot of momentum within the party for the alp to change its policy on asylum seekers dr lawrence says maintaining the policy will lose the sympathy of some sections of the community who have thought very carefully about the issues she says it will also annoy others who supported the coalition stance and see the alp as compromised the member for fremantle says labor did not suffer in the polls after it differentiated itself from the coalition in and we committed to native title we refused the extinguishment options that howard put forward she said we indicated our willingness to give an official apology on behalf of the nation to the stolen generations and we didn lose single vote in fact we came the nearest to winning an election after having been nearly obliterated in»\n",
      "\n",
      "Similar Document (64, 0.7649794220924377): «high profile church leader says the governor general must clarify his statement defending his handling of alleged child sexual abuse at queensland anglican school prime minister john howard is defending dr peter hollingworth against criticism about the way he dealt with the claims of abuse at toowoomba anglican school when he was the anglican archbishop of brisbane child protection groups still want the governor general to resign the reverend tim costello who is the president of the baptist union of australia says further explanation is needed don think he should step down at this point but do think that having begun the process with an explanation and clarification which still leaves some things unclear there is probably further work on just clarifying and understanding the import of what happened he said meanwhile federal opposition leader simon crean has described dr hollingworth explanation as insufficient mr crean says there are inconsistancies regarding where dr hollingworth received legal advice and this must be cleared up we heard the prime minister today saying that the governor general never said he got the legal advice from the chief justice but that begs the question as to who he got the legal advice from he said think it terribly important that we understand where the legal advice came from and who gave it»\n",
      "\n"
     ]
    }
   ],
   "source": [
    "# Pick a random document from the corpus and infer a vector from the model\n",
    "import random\n",
    "doc_id = random.randint(0, len(train_corpus) - 1)\n",
    "\n",
    "# Compare and print the second-most-similar document\n",
    "print('Train Document ({}): «{}»\\n'.format(doc_id, ' '.join(train_corpus[doc_id].words)))\n",
    "sim_id = second_ranks[doc_id]\n",
    "print('Similar Document {}: «{}»\\n'.format(sim_id, ' '.join(train_corpus[sim_id[0]].words)))"
   ]
  },
  {
   "cell_type": "code",
   "execution_count": 19,
   "metadata": {
    "scrolled": true
   },
   "outputs": [
    {
     "name": "stdout",
     "output_type": "stream",
     "text": [
      "Test Document (5): «gay former student of melbourne christian school is taking legal action under equal opportunity legislation claiming the school discriminated against him because of his sexuality tim alleged staff member at hillcrest christian college in berwick told him he had the devil in him and constant bullying by students prompted the principal to tell him to hide his sexuality he left the school several weeks ago and is continuing year by distance education after he said homophobic bullies threw rocks at his head spat on him called him names and slashed his belongings»\n",
      "\n",
      "SIMILAR/DISSIMILAR DOCS PER MODEL Doc2Vec(dm/m,d50,n5,w5,mc2,s0.001,t3):\n",
      "\n",
      "MOST (23, 0.5700494050979614): «americans fears about airplane security continue to increase after man made it through two separate flights with loaded gun in his carry on luggage the man was finally stopped before boarding third plane in memphis the man had travelled from florida to atlanta and then atlanta to memphis he was attempting to board his return flight last night when he was stopped by security personnel for random check they discovered loaded mm beretta semi automatic pistol in his hand luggage the man acknowledged the gun was his and was released on bail there is no suggestion he was planning any sort of terrorist attack but his ability to complete two flights while carrying the weapon has again highlighted airline security problems the incident follows last week drama when man was able to board plane from paris to miami with explosives in his shoes»\n",
      "\n",
      "MEDIAN (97, 0.22026751935482025): «australian authorities are to be granted access to david hicks arrested by the northern alliance in afghanistan the attorney general daryl williams says the year old from south australia is still being held in custody by the united states aboard the uss peleliu in the arabian sea mr williams says the suspected al qaeda fighter will interrogated by team of asio and federal police officers what is proposed is that he will be interrogated by an asio afp team he said he was captured by the northern alliance team in conflict situation he held in military custody and whatever is the appropriate practice in that context will be followed mr williams said do not imagine that he will be offered legal representation in these present circumstances»\n",
      "\n",
      "LEAST (19, -0.15349647402763367): «the next few hours are crucial for firefighters on alert in the blue mountains firefighters are working on kilometre fire front in the area which it is feared will devour homes if the wind picks up this afternoon the weather bureau had initially predicted kilometre an hour southerly wind gusts but has revised its forecast to kilometres an hour the wind change is expected to reach the blue mountains in the next hour mark williams the incident controller for the blue mountains region says fire crews will stop back burning as soon as the wind change nears the area soon as we get word the southerly change for instance is getting close to the blue mountains area we initially stop our back burning mr williams said tie it into local creek or something as close as possible so that it contained within that area so we don have further outbreaks»\n",
      "\n"
     ]
    }
   ],
   "source": [
    "# Pick a random document from the test corpus and infer a vector from the model\n",
    "doc_id = random.randint(0, len(test_corpus) - 1)\n",
    "inferred_vector = model.infer_vector(test_corpus[doc_id])\n",
    "sims = model.dv.most_similar([inferred_vector], topn=len(model.dv))\n",
    "\n",
    "# Compare and print the most/median/least similar documents from the train corpus\n",
    "print('Test Document ({}): «{}»\\n'.format(doc_id, ' '.join(test_corpus[doc_id])))\n",
    "print(u'SIMILAR/DISSIMILAR DOCS PER MODEL %s:\\n' % model)\n",
    "for label, index in [('MOST', 0), ('MEDIAN', len(sims)//2), ('LEAST', len(sims) - 1)]:\n",
    "    print(u'%s %s: «%s»\\n' % (label, sims[index], ' '.join(train_corpus[sims[index][0]].words)))"
   ]
  },
  {
   "cell_type": "markdown",
   "metadata": {},
   "source": [
    "### Challenge: Use the senator speeches in the folder 105-extracted-date and use cosine similarity to find whose senator speech is closest to senator Biden. Use sen105kh_fix.csv and/or Wikipedia to validate your findings (i.e., understand if the most similar speeches are senators from the same state and/party).  Describe your findings. (Compare with the outcome you got using cosine similarity.)"
   ]
  },
  {
   "cell_type": "code",
   "execution_count": 20,
   "metadata": {},
   "outputs": [],
   "source": [
    "#https://radimrehurek.com/gensim/auto_examples/tutorials/run_doc2vec_lee.html"
   ]
  }
 ],
 "metadata": {
  "kernelspec": {
   "display_name": "Python 3",
   "language": "python",
   "name": "python3"
  },
  "language_info": {
   "codemirror_mode": {
    "name": "ipython",
    "version": 3
   },
   "file_extension": ".py",
   "mimetype": "text/x-python",
   "name": "python",
   "nbconvert_exporter": "python",
   "pygments_lexer": "ipython3",
   "version": "3.8.5"
  }
 },
 "nbformat": 4,
 "nbformat_minor": 4
}
