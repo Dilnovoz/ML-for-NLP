{
 "cells": [
  {
   "cell_type": "markdown",
   "metadata": {},
   "source": [
    "Use Fox News and NYT tweets and open them with Pandas. Load each file separately so that we can create...."
   ]
  },
  {
   "cell_type": "markdown",
   "metadata": {},
   "source": [
    "#popularity = likes, like/retweets -- \n",
    "#popularity of the specific word ---(?)\n",
    "#Engagement -- special words around some topics that createsd\n",
    "#Topics by using previously (pre)classified tweets. Engagement per topic (?)\n",
    "#Urgent and breaking news. Looking at the frequency of a topic in a time range \n",
    "#Fox vs NYT, can we predict language\n",
    "#Tweet and followers relationship\n",
    "#Use misclassification for prediction"
   ]
  },
  {
   "cell_type": "code",
   "execution_count": null,
   "metadata": {},
   "outputs": [],
   "source": [
    "#Use the functctions from \n",
    "# !pip install git+https://github.com/laxmimerit/preprocess_kgptalkie.git\n",
    "#to clean the data and make it ready for analysis."
   ]
  },
  {
   "cell_type": "markdown",
   "metadata": {},
   "source": [
    "Create the target values of interesst from the original data."
   ]
  }
 ],
 "metadata": {
  "kernelspec": {
   "display_name": "Python 3",
   "language": "python",
   "name": "python3"
  },
  "language_info": {
   "codemirror_mode": {
    "name": "ipython",
    "version": 3
   },
   "file_extension": ".py",
   "mimetype": "text/x-python",
   "name": "python",
   "nbconvert_exporter": "python",
   "pygments_lexer": "ipython3",
   "version": "3.8.5"
  }
 },
 "nbformat": 4,
 "nbformat_minor": 4
}
