{
 "cells": [
  {
   "cell_type": "code",
   "execution_count": 1,
   "metadata": {},
   "outputs": [],
   "source": [
    "import PyPDF2"
   ]
  },
  {
   "cell_type": "code",
   "execution_count": 2,
   "metadata": {},
   "outputs": [],
   "source": [
    "AEJ_health = open('../../Inputs/app20170295.pdf', \"rb\") #read binary\n",
    "reader_health = PyPDF2.PdfFileReader(AEJ_health)"
   ]
  },
  {
   "cell_type": "code",
   "execution_count": 3,
   "metadata": {},
   "outputs": [
    {
     "data": {
      "text/plain": [
       "<PyPDF2.pdf.PdfFileReader at 0x7fdb702e2ca0>"
      ]
     },
     "execution_count": 3,
     "metadata": {},
     "output_type": "execute_result"
    }
   ],
   "source": [
    "reader_health"
   ]
  },
  {
   "cell_type": "code",
   "execution_count": 4,
   "metadata": {},
   "outputs": [
    {
     "data": {
      "text/plain": [
       "31"
      ]
     },
     "execution_count": 4,
     "metadata": {},
     "output_type": "execute_result"
    }
   ],
   "source": [
    "reader_health.numPages"
   ]
  },
  {
   "cell_type": "code",
   "execution_count": 5,
   "metadata": {},
   "outputs": [],
   "source": [
    "page1_health = reader_health.getPage(0)"
   ]
  },
  {
   "cell_type": "code",
   "execution_count": 6,
   "metadata": {},
   "outputs": [
    {
     "data": {
      "text/plain": [
       "'American Economic Journal: Applied Economics 2019, 11(2): 302Œ332\\n https://doi.org/10.1257/app.20170295\\n302* Curto: Department of Health Policy and Management, T.H. Chan School of Public Health, Harvard University, \\n677 Huntington Avenue, Boston, MA 02115-6028 \\n(email: vcurto@hsph.harvard.edu); Einav: Department of \\nEconomics, Stanford University, 579 Serra Mall, Stanford, CA 94305-6072 \\n(email: leinav@stanford.edu) and \\nNBER; Finkelstein: Department of Economics, MIT, 50 Memorial Drive, Cambridge, MA 02142-1347 \\n(email: \\nafink@mit.edu) and NBER; Levin: Graduate School of Business, Stanford University, 655 Knight Way, Stanford, \\n\\nCA 94305-7298 \\n(email: jdlevin@stanford.edu\\n) and NBER; Bhattacharya: School of Medicine, Stanford University, \\n616 Serra Street, Stanford, CA 94305-6019 (email: jay@stanford.edu). Ilyana Kuziemko was coeditor for this \\n\\narticle. We are grateful to Diego Jimenez, Andelyn Russell, Daniel Salmon, and Martina Uccioli for excellent \\n\\nresearch assistance. We thank three anonymous referees and numerous seminar participants for helpful comments. \\n\\nWe gratefully acknowledge support from the NSF \\n(SES-1527942, Bhattacharya, Einav, and Levin\\n), the NIA (R01 \\nAG032449, Einav and Finkelstein; R37 AG036791, Bhattacharya\\n), and the Sloan Foundation \\n(Bhattacharya, Einav, \\nFinkelstein, and Levin\\n). The authors acknowledge the assistance of the Health Care Cost Institute \\n(HCCI) and its \\ndata contributors, Aetna, Humana, and UnitedHealthcare, in providing the claims data analyzed in this study. \\nƒ Go to https://doi.org/10.1257/app.20170295 to visit the article page for additional materials and author \\n disclosure statements or to comment in the online discussion forum.Health Care Spending and Utilization \\n in Public and Private Medicare\\nƒBy V˜˚˛˝ C˙ˆˇ˘˝, , \\n ˝ˇˇ˝˝*\\nWe compare health care spending in public and private Medicare \\nusing newly available claims data from Medicare Advantage \\n(MA) \\ninsurers. MA insurer revenues are \\n30 percent higher than their health \\n\\ncare spending. Adjusting for enrollee mix\\n, health care spending per \\n\\nenrollee in MA is \\n9 to \\n30 percent lower than in Traditional Medicare \\n(TM), depending on the way we de˜ne ﬁcomparableﬂ enrollees. \\nSpending differences primarily re˚ect differences in health care uti\\n-lization, with similar reductions for ﬁhigh-valueﬂ and ﬁlow-valueﬂ \\n\\ncare\\n, rather than health care prices. We present evidence consistent \\n\\nwith MA plans encouraging substitution to less expensive care and \\n\\nengaging in utilization management. \\n(JEL G22, H44, H51, I11, I13)A  long-standing question in economics concerns the appropriate roles of the public sector and private sector in providing services that society has decided \\nare essential. This question comes up in many contexts, including education, utili\\n-ties, transportation, and pensions. It is especially relevant in health care, where the \\nUnited States is unusual among developed countries in its distinctive mix of public \\n\\nand private health insurance. Comparisons of public and private health insurance \\n\\nsystems are difwever, since they typically do not operate at a similar scale, \\n\\nfor the same population, in the same markets, or with the same health care providers.\\nThe US Medicare program in recent years has been an exception because of the \\nﬁside by sideﬂ operation of public and private insurance programs. While Traditional \\n\\nMedicare (TM) of\\n'"
      ]
     },
     "execution_count": 6,
     "metadata": {},
     "output_type": "execute_result"
    }
   ],
   "source": [
    "page1_health.extractText()"
   ]
  },
  {
   "cell_type": "code",
   "execution_count": 7,
   "metadata": {},
   "outputs": [],
   "source": [
    "writer_AEJ_health=PyPDF2.PdfFileWriter()"
   ]
  },
  {
   "cell_type": "code",
   "execution_count": 8,
   "metadata": {},
   "outputs": [],
   "source": [
    "writer_AEJ_health.addPage(page1_health)"
   ]
  },
  {
   "cell_type": "code",
   "execution_count": 9,
   "metadata": {},
   "outputs": [],
   "source": [
    "outputFile_health=open('../../Outputs/AEJ_health_abstract.pdf','wb')\n",
    "writer_AEJ_health.write(outputFile_health)\n",
    "outputFile_health.close()"
   ]
  }
 ],
 "metadata": {
  "kernelspec": {
   "display_name": "Python 3",
   "language": "python",
   "name": "python3"
  },
  "language_info": {
   "codemirror_mode": {
    "name": "ipython",
    "version": 3
   },
   "file_extension": ".py",
   "mimetype": "text/x-python",
   "name": "python",
   "nbconvert_exporter": "python",
   "pygments_lexer": "ipython3",
   "version": "3.8.5"
  }
 },
 "nbformat": 4,
 "nbformat_minor": 4
}
